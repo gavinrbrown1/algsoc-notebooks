{
 "cells": [
  {
   "cell_type": "code",
   "execution_count": 68,
   "metadata": {},
   "outputs": [],
   "source": [
    "%matplotlib inline\n",
    "\n",
    "import numpy as np\n",
    "import matplotlib.pyplot as plt\n",
    "import random\n",
    "from time import time"
   ]
  },
  {
   "cell_type": "code",
   "execution_count": 34,
   "metadata": {},
   "outputs": [],
   "source": [
    "def create_instance(d, n, sigma):\n",
    "    \"\"\"return dataset and fresh sample\"\"\"\n",
    "    X = np.random.choice((-1,1), size=(n,d))\n",
    "    B = (1/np.sqrt(d)) * np.random.choice((-1,1), size=d)\n",
    "    Z = np.random.normal(0, sigma, size=n)\n",
    "    Y = X@B + Z\n",
    "    x = np.random.choice((-1,1), size=d)\n",
    "    y = x@B + np.random.normal(0, sigma, size=1)\n",
    "    return X, Y, B, x, y\n"
   ]
  },
  {
   "cell_type": "code",
   "execution_count": 71,
   "metadata": {},
   "outputs": [
    {
     "name": "stdout",
     "output_type": "stream",
     "text": [
      "run: 0\n",
      "9.492406860545088e-15\n",
      "0.00046463106005051324\n"
     ]
    }
   ],
   "source": [
    "# as-written \n",
    "np.random.seed(330)\n",
    "d = 3000\n",
    "n = 100\n",
    "sigma = 0.1\n",
    "runs = 1000\n",
    "hi_in = 0\n",
    "lo_out = float('Inf')\n",
    "\n",
    "for run in range(runs):\n",
    "    X, Y, true_B, x, y = create_instance(d, n, sigma)\n",
    "\n",
    "    B_hat = np.linalg.lstsq(X, Y, rcond=None)[0]\n",
    "\n",
    "    ins = np.max(np.abs(Y[i] - X[i,:]@B_hat))\n",
    "    out = np.abs((y - x@B_hat)[0])\n",
    "    if ins > hi_in:\n",
    "        hi_in = ins\n",
    "    if out < lo_out:\n",
    "        lo_out = out\n",
    "    \n",
    "    if run % 1000 == 0:\n",
    "        print('run:', run)\n",
    "print(hi_in)\n",
    "print(lo_out)"
   ]
  },
  {
   "cell_type": "code",
   "execution_count": 74,
   "metadata": {},
   "outputs": [
    {
     "name": "stdout",
     "output_type": "stream",
     "text": [
      "run: 0\n",
      "run: 100\n",
      "run: 200\n",
      "run: 300\n",
      "run: 400\n",
      "run: 500\n",
      "run: 600\n",
      "run: 700\n",
      "run: 800\n",
      "run: 900\n",
      "time: 6.083802938461304\n",
      "0.05 quantile: 0.0061237387289873775\n",
      "tpr: 0.049668666666666667\n",
      "\n"
     ]
    },
    {
     "data": {
      "image/png": "[encoded data removed]",
      "text/plain": [
       "<Figure size 432x288 with 1 Axes>"
      ]
     },
     "metadata": {
      "needs_background": "light"
     },
     "output_type": "display_data"
    },
    {
     "data": {
      "image/png": "[encoded data removed]",
      "text/plain": [
       "<Figure size 432x288 with 1 Axes>"
      ]
     },
     "metadata": {
      "needs_background": "light"
     },
     "output_type": "display_data"
    }
   ],
   "source": [
    "# more likely assignment, given what I read\n",
    "# but if I swap n and d, then the generalization gap is too small\n",
    "np.random.seed(330)\n",
    "d = 100\n",
    "n = 3000\n",
    "sigma = 0.1\n",
    "runs = 1000\n",
    "\n",
    "ins = np.zeros((runs, n))\n",
    "outs = np.zeros(runs)\n",
    "\n",
    "start = time()\n",
    "for run in range(runs):\n",
    "    X, Y, true_B, x, y = create_instance(d, n, sigma)\n",
    "\n",
    "    B_hat = np.linalg.lstsq(X, Y, rcond=None)[0]\n",
    "\n",
    "    ins[run, :] = np.abs(Y - X@B_hat)\n",
    "    outs[run] = np.abs((y - x@B_hat)[0])\n",
    "    \n",
    "    if run % 100 == 0:\n",
    "        print('run:', run)\n",
    "end = time()\n",
    "print('time:', end-start)\n",
    "\n",
    "q = np.quantile(outs, 0.05)\n",
    "print('0.05 quantile:', q)\n",
    "print('tpr:', np.sum(ins <= q, axis=(0,1)) / (runs*n))\n",
    "print()\n",
    "\n",
    "plt.hist(ins.flatten())\n",
    "plt.title('In-Dataset')\n",
    "plt.show()\n",
    "plt.hist(outs)\n",
    "plt.title('Out-of-Dataset')\n",
    "plt.show()"
   ]
  }
 ],
 "metadata": {
  "kernelspec": {
   "display_name": "Python 3",
   "language": "python",
   "name": "python3"
  },
  "language_info": {
   "codemirror_mode": {
    "name": "ipython",
    "version": 3
   },
   "file_extension": ".py",
   "mimetype": "text/x-python",
   "name": "python",
   "nbconvert_exporter": "python",
   "pygments_lexer": "ipython3",
   "version": "3.7.3"
  }
 },
 "nbformat": 4,
 "nbformat_minor": 2
}
